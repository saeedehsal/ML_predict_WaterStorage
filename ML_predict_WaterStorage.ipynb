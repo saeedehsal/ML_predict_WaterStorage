{
 "cells": [
  {
   "cell_type": "markdown",
   "metadata": {
    "collapsed": false,
    "deletable": true,
    "editable": true
   },
   "source": [
    "import pandas as pd\n",
    "import numpy as np\n",
    "import sklearn.grid_search\n",
    "from sklearn.neighbors import KNeighborsRegressor\n",
    "from sklearn.preprocessing import LabelEncoder\n",
    "from sklearn.preprocessing import Imputer\n",
    "import matplotlib.pyplot as plt\n",
    "from sklearn.decomposition import PCA\n",
    "from sklearn import preprocessing \n",
    "from sklearn import linear_model"
   ]
  },
  {
   "cell_type": "markdown",
   "metadata": {
    "collapsed": true,
    "deletable": true,
    "editable": true
   },
   "source": [
    "Part 1: \n",
    "\n",
    "In this part we use one of the data sets 'IAValues'. There are some missing values in the column 'rootznaws'. The gole is to build a model to predict this missing values. I have used KNN to build this model. Also, GridSearchCV is being used to find the optimal value of K in KNN model."
   ]
  },
  {
   "cell_type": "code",
   "execution_count": 11,
   "metadata": {
    "collapsed": false,
    "deletable": true,
    "editable": true
   },
   "outputs": [
    {
     "data": {
      "text/html": [
       "<div>\n",
       "<style>\n",
       "    .dataframe thead tr:only-child th {\n",
       "        text-align: right;\n",
       "    }\n",
       "\n",
       "    .dataframe thead th {\n",
       "        text-align: left;\n",
       "    }\n",
       "\n",
       "    .dataframe tbody tr th {\n",
       "        vertical-align: top;\n",
       "    }\n",
       "</style>\n",
       "<table border=\"1\" class=\"dataframe\">\n",
       "  <thead>\n",
       "    <tr style=\"text-align: right;\">\n",
       "      <th></th>\n",
       "      <th>Unnamed: 0</th>\n",
       "      <th>Unnamed: 0.1</th>\n",
       "      <th>mukey</th>\n",
       "      <th>OBJECTID_1</th>\n",
       "      <th>tk0_5a</th>\n",
       "      <th>tk5_20a</th>\n",
       "      <th>tk20_50a</th>\n",
       "      <th>tk50_100a</th>\n",
       "      <th>tk100_150a</th>\n",
       "      <th>tk150_999a</th>\n",
       "      <th>...</th>\n",
       "      <th>nccpi2cs</th>\n",
       "      <th>nccpi2sg</th>\n",
       "      <th>nccpi2co</th>\n",
       "      <th>nccpi2all</th>\n",
       "      <th>pctearthmc</th>\n",
       "      <th>rootznemc</th>\n",
       "      <th>rootznaws</th>\n",
       "      <th>droughty</th>\n",
       "      <th>pwsl1pomu</th>\n",
       "      <th>musumcpct</th>\n",
       "    </tr>\n",
       "  </thead>\n",
       "  <tbody>\n",
       "    <tr>\n",
       "      <th>0</th>\n",
       "      <td>0</td>\n",
       "      <td>0</td>\n",
       "      <td>1601875</td>\n",
       "      <td>55642</td>\n",
       "      <td>0.0</td>\n",
       "      <td>0.0</td>\n",
       "      <td>0.0</td>\n",
       "      <td>0.0</td>\n",
       "      <td>0.0</td>\n",
       "      <td>0.0</td>\n",
       "      <td>...</td>\n",
       "      <td>0.0</td>\n",
       "      <td>0.0</td>\n",
       "      <td>0.0</td>\n",
       "      <td>0.0</td>\n",
       "      <td>100</td>\n",
       "      <td>0</td>\n",
       "      <td>0.0</td>\n",
       "      <td>1</td>\n",
       "      <td>0</td>\n",
       "      <td>100</td>\n",
       "    </tr>\n",
       "    <tr>\n",
       "      <th>1</th>\n",
       "      <td>1</td>\n",
       "      <td>1</td>\n",
       "      <td>1601876</td>\n",
       "      <td>55643</td>\n",
       "      <td>0.0</td>\n",
       "      <td>0.0</td>\n",
       "      <td>0.0</td>\n",
       "      <td>0.0</td>\n",
       "      <td>0.0</td>\n",
       "      <td>0.0</td>\n",
       "      <td>...</td>\n",
       "      <td>0.0</td>\n",
       "      <td>0.0</td>\n",
       "      <td>0.0</td>\n",
       "      <td>0.0</td>\n",
       "      <td>100</td>\n",
       "      <td>0</td>\n",
       "      <td>0.0</td>\n",
       "      <td>1</td>\n",
       "      <td>0</td>\n",
       "      <td>100</td>\n",
       "    </tr>\n",
       "    <tr>\n",
       "      <th>2</th>\n",
       "      <td>2</td>\n",
       "      <td>2</td>\n",
       "      <td>1601877</td>\n",
       "      <td>55584</td>\n",
       "      <td>0.0</td>\n",
       "      <td>0.0</td>\n",
       "      <td>0.0</td>\n",
       "      <td>0.0</td>\n",
       "      <td>0.0</td>\n",
       "      <td>0.0</td>\n",
       "      <td>...</td>\n",
       "      <td>0.0</td>\n",
       "      <td>0.0</td>\n",
       "      <td>0.0</td>\n",
       "      <td>0.0</td>\n",
       "      <td>0</td>\n",
       "      <td>0</td>\n",
       "      <td>NaN</td>\n",
       "      <td>0</td>\n",
       "      <td>0</td>\n",
       "      <td>100</td>\n",
       "    </tr>\n",
       "    <tr>\n",
       "      <th>3</th>\n",
       "      <td>3</td>\n",
       "      <td>3</td>\n",
       "      <td>1601878</td>\n",
       "      <td>55622</td>\n",
       "      <td>0.0</td>\n",
       "      <td>0.0</td>\n",
       "      <td>0.0</td>\n",
       "      <td>0.0</td>\n",
       "      <td>0.0</td>\n",
       "      <td>0.0</td>\n",
       "      <td>...</td>\n",
       "      <td>0.0</td>\n",
       "      <td>0.0</td>\n",
       "      <td>0.0</td>\n",
       "      <td>0.0</td>\n",
       "      <td>0</td>\n",
       "      <td>0</td>\n",
       "      <td>NaN</td>\n",
       "      <td>0</td>\n",
       "      <td>999</td>\n",
       "      <td>100</td>\n",
       "    </tr>\n",
       "    <tr>\n",
       "      <th>4</th>\n",
       "      <td>4</td>\n",
       "      <td>4</td>\n",
       "      <td>1601879</td>\n",
       "      <td>55652</td>\n",
       "      <td>0.0</td>\n",
       "      <td>0.0</td>\n",
       "      <td>0.0</td>\n",
       "      <td>0.0</td>\n",
       "      <td>0.0</td>\n",
       "      <td>0.0</td>\n",
       "      <td>...</td>\n",
       "      <td>0.0</td>\n",
       "      <td>0.0</td>\n",
       "      <td>0.0</td>\n",
       "      <td>0.0</td>\n",
       "      <td>0</td>\n",
       "      <td>0</td>\n",
       "      <td>0.0</td>\n",
       "      <td>0</td>\n",
       "      <td>0</td>\n",
       "      <td>100</td>\n",
       "    </tr>\n",
       "  </tbody>\n",
       "</table>\n",
       "<p>5 rows × 49 columns</p>\n",
       "</div>"
      ],
      "text/plain": [
       "   Unnamed: 0  Unnamed: 0.1    mukey  OBJECTID_1  tk0_5a  tk5_20a  tk20_50a  \\\n",
       "0           0             0  1601875       55642     0.0      0.0       0.0   \n",
       "1           1             1  1601876       55643     0.0      0.0       0.0   \n",
       "2           2             2  1601877       55584     0.0      0.0       0.0   \n",
       "3           3             3  1601878       55622     0.0      0.0       0.0   \n",
       "4           4             4  1601879       55652     0.0      0.0       0.0   \n",
       "\n",
       "   tk50_100a  tk100_150a  tk150_999a    ...      nccpi2cs  nccpi2sg  nccpi2co  \\\n",
       "0        0.0         0.0         0.0    ...           0.0       0.0       0.0   \n",
       "1        0.0         0.0         0.0    ...           0.0       0.0       0.0   \n",
       "2        0.0         0.0         0.0    ...           0.0       0.0       0.0   \n",
       "3        0.0         0.0         0.0    ...           0.0       0.0       0.0   \n",
       "4        0.0         0.0         0.0    ...           0.0       0.0       0.0   \n",
       "\n",
       "   nccpi2all  pctearthmc  rootznemc  rootznaws  droughty  pwsl1pomu  musumcpct  \n",
       "0        0.0         100          0        0.0         1          0        100  \n",
       "1        0.0         100          0        0.0         1          0        100  \n",
       "2        0.0           0          0        NaN         0          0        100  \n",
       "3        0.0           0          0        NaN         0        999        100  \n",
       "4        0.0           0          0        0.0         0          0        100  \n",
       "\n",
       "[5 rows x 49 columns]"
      ]
     },
     "execution_count": 11,
     "metadata": {},
     "output_type": "execute_result"
    }
   ],
   "source": [
    "#load the data as a pandas data frame\n",
    "raw_data = pd.read_csv('IAValues.txt')\n",
    "raw_data.head()"
   ]
  },
  {
   "cell_type": "code",
   "execution_count": 12,
   "metadata": {
    "collapsed": false,
    "deletable": true,
    "editable": true
   },
   "outputs": [
    {
     "name": "stdout",
     "output_type": "stream",
     "text": [
      "True\n"
     ]
    }
   ],
   "source": [
    "#check if rootznaws is present among the columns\n",
    "print 'rootznaws' in raw_data.columns"
   ]
  },
  {
   "cell_type": "code",
   "execution_count": 13,
   "metadata": {
    "collapsed": false,
    "deletable": true,
    "editable": true
   },
   "outputs": [
    {
     "name": "stdout",
     "output_type": "stream",
     "text": [
      "0.814831960004\n"
     ]
    }
   ],
   "source": [
    "#check the portion of the data that rootznaws is not NaN to see if we have enough known values for rootznaws\n",
    "#to be able to predict \n",
    "print float(len(raw_data[raw_data['rootznaws'].notnull()]))/len(raw_data['rootznaws'])"
   ]
  },
  {
   "cell_type": "code",
   "execution_count": 14,
   "metadata": {
    "collapsed": false,
    "deletable": true,
    "editable": true
   },
   "outputs": [
    {
     "data": {
      "image/png": "[encoded data removed]",
      "text/plain": [
       "<matplotlib.figure.Figure at 0x7f299a4866d0>"
      ]
     },
     "metadata": {},
     "output_type": "display_data"
    }
   ],
   "source": [
    "#plot rootznaws where it is not null\n",
    "known_rootznaws = raw_data[raw_data.rootznaws.notnull()]['rootznaws']\n",
    "plt.hist(known_rootznaws)\n",
    "plt.title(\"Histogram of rootznaws\")\n",
    "plt.show()"
   ]
  },
  {
   "cell_type": "code",
   "execution_count": 15,
   "metadata": {
    "collapsed": false,
    "deletable": true,
    "editable": true
   },
   "outputs": [
    {
     "name": "stderr",
     "output_type": "stream",
     "text": [
      "/opt/conda/lib/python2.7/site-packages/ipykernel_launcher.py:3: DeprecationWarning: \n",
      ".ix is deprecated. Please use\n",
      ".loc for label based indexing or\n",
      ".iloc for positional indexing\n",
      "\n",
      "See the documentation here:\n",
      "http://pandas.pydata.org/pandas-docs/stable/indexing.html#ix-indexer-is-deprecated\n",
      "  This is separate from the ipykernel package so we can avoid doing imports until\n",
      "/opt/conda/lib/python2.7/site-packages/ipykernel_launcher.py:7: DeprecationWarning: \n",
      ".ix is deprecated. Please use\n",
      ".loc for label based indexing or\n",
      ".iloc for positional indexing\n",
      "\n",
      "See the documentation here:\n",
      "http://pandas.pydata.org/pandas-docs/stable/indexing.html#ix-indexer-is-deprecated\n",
      "  import sys\n"
     ]
    }
   ],
   "source": [
    "#selet part of the data frame with non null values of rootznaws for train and test\n",
    "data_no_null = raw_data[raw_data.rootznaws.notnull()]\n",
    "x = data_no_null.ix[:, data_no_null.columns != 'rootznaws']\n",
    "y = data_no_null.ix[:, data_no_null.columns == 'rootznaws']\n",
    "#selet part of the data frame with null values of rootznaws for prediction\n",
    "data_null = raw_data[raw_data.rootznaws.isnull()]\n",
    "x_for_pred = data_null.ix[:, data_null.columns != 'rootznaws']"
   ]
  },
  {
   "cell_type": "code",
   "execution_count": 16,
   "metadata": {
    "collapsed": false,
    "deletable": true,
    "editable": true
   },
   "outputs": [
    {
     "name": "stdout",
     "output_type": "stream",
     "text": [
      "('Best score is :', 0.6537233206285251)\n",
      "('Best params are :', {'n_neighbors': 3})\n"
     ]
    }
   ],
   "source": [
    "#application of Grid search with KNN to find the best estimator\n",
    "x_train, x_test, y_train, y_test = sklearn.cross_validation.train_test_split(x,y,test_size=0.2,random_state=42)\n",
    "k = np.arange(20)+1\n",
    "parameters = {'n_neighbors': k}\n",
    "knn = sklearn.neighbors.KNeighborsRegressor()\n",
    "clf = sklearn.grid_search.GridSearchCV(knn,parameters,cv=10)\n",
    "clf.fit(x_train, y_train)\n",
    "print('Best score is :', clf.best_score_)\n",
    "print('Best params are :',clf.best_params_)"
   ]
  },
  {
   "cell_type": "code",
   "execution_count": 17,
   "metadata": {
    "collapsed": false,
    "deletable": true,
    "editable": true
   },
   "outputs": [
    {
     "data": {
      "text/plain": [
       "array([[   0.        ],\n",
       "       [   0.        ],\n",
       "       [ 244.33333333],\n",
       "       ..., \n",
       "       [ 211.        ],\n",
       "       [ 258.        ],\n",
       "       [ 197.66666667]])"
      ]
     },
     "execution_count": 17,
     "metadata": {},
     "output_type": "execute_result"
    }
   ],
   "source": [
    "#values that is predicted for missing values of rootznaws by above estimator\n",
    "clf.predict(x_for_pred)"
   ]
  },
  {
   "cell_type": "markdown",
   "metadata": {},
   "source": [
    "Part 2:\n",
    "\n",
    "In addition to the first data set that we used above, we are using another data set names 'muggatt'. It includes other features/parameters of the soil. Our hope is that by adding more features, we can build a more accuarte model to predict the missing values of 'rootznaws'. \n",
    "\n",
    "To build the model, I have used both KNN and Linear Regression. Regression gives us better results.\n",
    "Also, note that the second data set has some categorical columns. I have used one label encoding for such columns before applying linear regression."
   ]
  },
  {
   "cell_type": "code",
   "execution_count": 20,
   "metadata": {
    "collapsed": false,
    "deletable": true,
    "editable": true
   },
   "outputs": [],
   "source": [
    "#read the second set of data\n",
    "Q2_data = pd.read_csv('muaggatt.txt')"
   ]
  },
  {
   "cell_type": "code",
   "execution_count": 21,
   "metadata": {
    "collapsed": false,
    "deletable": true,
    "editable": true
   },
   "outputs": [
    {
     "data": {
      "text/plain": [
       "10801"
      ]
     },
     "execution_count": 21,
     "metadata": {},
     "output_type": "execute_result"
    }
   ],
   "source": [
    "#join two data sets. This way we will have more features\n",
    "df = pd.concat([raw_data, Q2_data], axis=1, join='inner')\n",
    "len(df)"
   ]
  },
  {
   "cell_type": "code",
   "execution_count": 22,
   "metadata": {
    "collapsed": false,
    "deletable": true,
    "editable": true
   },
   "outputs": [
    {
     "name": "stdout",
     "output_type": "stream",
     "text": [
      "   Unnamed: 0  Unnamed: 0.1    mukey  OBJECTID_1  tk0_5a  tk5_20a  tk20_50a  \\\n",
      "0           0             0  1601875       55642     0.0      0.0       0.0   \n",
      "1           1             1  1601876       55643     0.0      0.0       0.0   \n",
      "2           2             2  1601877       55584     0.0      0.0       0.0   \n",
      "3           3             3  1601878       55622     0.0      0.0       0.0   \n",
      "4           4             4  1601879       55652     0.0      0.0       0.0   \n",
      "\n",
      "   tk50_100a  tk100_150a  tk150_999a   ...      engsldcp  englrsdcd  \\\n",
      "0        0.0         0.0         0.0   ...     Not rated  Not rated   \n",
      "1        0.0         0.0         0.0   ...     Not rated  Not rated   \n",
      "2        0.0         0.0         0.0   ...     Not rated  Not rated   \n",
      "3        0.0         0.0         0.0   ...     Not rated  Not rated   \n",
      "4        0.0         0.0         0.0   ...     Not rated  Not rated   \n",
      "\n",
      "   engcmssdcd  engcmssmp  urbrecptdcd  urbrecptwta  forpehrtdcp  hydclprs  \\\n",
      "0   Not rated  Not rated    Not rated          0.0    Not rated         0   \n",
      "1   Not rated  Not rated    Not rated          0.0    Not rated         0   \n",
      "2   Not rated  Not rated    Not rated          0.0    Not rated         0   \n",
      "3   Not rated  Not rated    Not rated          0.0    Not rated         0   \n",
      "4   Not rated  Not rated    Not rated          0.0    Not rated         0   \n",
      "\n",
      "   awmmfpwwta    mukey  \n",
      "0         0.0  1601875  \n",
      "1         0.0  1601876  \n",
      "2         0.0  1601877  \n",
      "3         0.0  1601878  \n",
      "4         0.0  1601879  \n",
      "\n",
      "[5 rows x 90 columns]\n"
     ]
    }
   ],
   "source": [
    "print df.head()"
   ]
  },
  {
   "cell_type": "code",
   "execution_count": 23,
   "metadata": {
    "collapsed": false,
    "deletable": true,
    "editable": true
   },
   "outputs": [
    {
     "name": "stderr",
     "output_type": "stream",
     "text": [
      "/opt/conda/lib/python2.7/site-packages/ipykernel_launcher.py:14: SettingWithCopyWarning: \n",
      "A value is trying to be set on a copy of a slice from a DataFrame.\n",
      "Try using .loc[row_indexer,col_indexer] = value instead\n",
      "\n",
      "See the caveats in the documentation: http://pandas.pydata.org/pandas-docs/stable/indexing.html#indexing-view-versus-copy\n",
      "  \n"
     ]
    },
    {
     "data": {
      "text/plain": [
       "90"
      ]
     },
     "execution_count": 23,
     "metadata": {},
     "output_type": "execute_result"
    }
   ],
   "source": [
    "# select part of the data frame that rootznaws is not missing for train and test\n",
    "df1 = df[df.rootznaws.notnull()]\n",
    "\n",
    "#get the numerical columns\n",
    "df1_numerical = df1.select_dtypes(exclude=['object'])\n",
    "\n",
    "#get the categorical columns\n",
    "df1_categorical = df1.select_dtypes(include=['object'])\n",
    "\n",
    "#for categorical columns perform LabelEnocoding\n",
    "df1_all = df1_numerical\n",
    "lb_make = LabelEncoder()\n",
    "for col in df1_categorical:\n",
    "    df1_all[col] = lb_make.fit_transform(df1_categorical[col])"
   ]
  },
  {
   "cell_type": "code",
   "execution_count": 16,
   "metadata": {
    "collapsed": false,
    "deletable": true,
    "editable": true
   },
   "outputs": [
    {
     "name": "stderr",
     "output_type": "stream",
     "text": [
      "/opt/conda/lib/python2.7/site-packages/ipykernel_launcher.py:14: SettingWithCopyWarning: \n",
      "A value is trying to be set on a copy of a slice from a DataFrame.\n",
      "Try using .loc[row_indexer,col_indexer] = value instead\n",
      "\n",
      "See the caveats in the documentation: http://pandas.pydata.org/pandas-docs/stable/indexing.html#indexing-view-versus-copy\n",
      "  \n",
      "/opt/conda/lib/python2.7/site-packages/ipykernel_launcher.py:24: DeprecationWarning: \n",
      ".ix is deprecated. Please use\n",
      ".loc for label based indexing or\n",
      ".iloc for positional indexing\n",
      "\n",
      "See the documentation here:\n",
      "http://pandas.pydata.org/pandas-docs/stable/indexing.html#ix-indexer-is-deprecated\n"
     ]
    },
    {
     "name": "stdout",
     "output_type": "stream",
     "text": [
      "('Best score is :', 0.6629016246533684)\n",
      "('Best params are :', {'n_neighbors': 2})\n"
     ]
    }
   ],
   "source": [
    "# select part of the data frame that rootznaws is not missing for train and test\n",
    "df1 = df[df.rootznaws.notnull()]\n",
    "\n",
    "#get the numerical columns\n",
    "df1_numerical = df1.select_dtypes(exclude=['object'])\n",
    "\n",
    "#get the categorical columns\n",
    "df1_categorical = df1.select_dtypes(include=['object'])\n",
    "\n",
    "#for categorical columns perform LabelEnocoding\n",
    "df1_all = df1_numerical\n",
    "lb_make = LabelEncoder()\n",
    "for col in df1_categorical:\n",
    "    df1_all[col] = lb_make.fit_transform(df1_categorical[col])\n",
    "\n",
    "#fill out the NaN values\n",
    "df1_all.apply(lambda x: x.fillna(x.mean(), inplace=True),axis=1)\n",
    "del df1_all['mustatus']\n",
    "del df1_all['iccdcd'] \n",
    "del df1_all['niccdcd']\n",
    "\n",
    "\n",
    "#select features columns and target\n",
    "x2 = df1_all.ix[:, df1_all.columns != 'rootznaws']\n",
    "y2 = df1_all.ix[:, df1_all.columns == 'rootznaws']\n",
    "\n",
    "\n",
    "#use grid search CV with KNN to train and test\n",
    "x_train2, x_test2, y_train2, y_test2 = sklearn.cross_validation.train_test_split(x2, y2, test_size=0.2,random_state=4)\n",
    "k = np.arange(20) + 1\n",
    "parameters = {'n_neighbors': k}\n",
    "knn = sklearn.neighbors.KNeighborsRegressor()\n",
    "clf = sklearn.grid_search.GridSearchCV(knn,parameters,cv=10)\n",
    "clf.fit(x_train2, y_train2)\n",
    "print('Best score is :', clf.best_score_)\n",
    "print('Best params are :',clf.best_params_)\n"
   ]
  },
  {
   "cell_type": "code",
   "execution_count": 17,
   "metadata": {
    "collapsed": false,
    "deletable": true,
    "editable": true
   },
   "outputs": [
    {
     "name": "stderr",
     "output_type": "stream",
     "text": [
      "/opt/conda/lib/python2.7/site-packages/ipykernel_launcher.py:8: SettingWithCopyWarning: \n",
      "A value is trying to be set on a copy of a slice from a DataFrame.\n",
      "Try using .loc[row_indexer,col_indexer] = value instead\n",
      "\n",
      "See the caveats in the documentation: http://pandas.pydata.org/pandas-docs/stable/indexing.html#indexing-view-versus-copy\n",
      "  \n",
      "/opt/conda/lib/python2.7/site-packages/ipykernel_launcher.py:18: DeprecationWarning: \n",
      ".ix is deprecated. Please use\n",
      ".loc for label based indexing or\n",
      ".iloc for positional indexing\n",
      "\n",
      "See the documentation here:\n",
      "http://pandas.pydata.org/pandas-docs/stable/indexing.html#ix-indexer-is-deprecated\n"
     ]
    },
    {
     "data": {
      "text/plain": [
       "array([[   0.],\n",
       "       [   0.],\n",
       "       [ 174.],\n",
       "       ..., \n",
       "       [ 208.],\n",
       "       [ 273.],\n",
       "       [ 190.]])"
      ]
     },
     "execution_count": 17,
     "metadata": {},
     "output_type": "execute_result"
    }
   ],
   "source": [
    "#perform the same data manipulation on part of the data frame that is used for prediction\n",
    "df2 = df[df.rootznaws.isnull()]\n",
    "df2_numerical = df2.select_dtypes(exclude=['object'])\n",
    "df2_categorical = df2.select_dtypes(include=['object'])\n",
    "df2_all = df2_numerical\n",
    "lb_make2 = LabelEncoder()\n",
    "for col in df2_categorical:\n",
    "    df2_all[col] = lb_make2.fit_transform(df2_categorical[col])\n",
    "\n",
    "#fill out the NaN values\n",
    "df2_all.apply(lambda x: x.fillna(x.mean(), inplace=True),axis=1)\n",
    "#df2_all.isnull().any()\n",
    "del df2_all['mustatus']\n",
    "del df2_all['iccdcd'] \n",
    "del df2_all['niccdcd']\n",
    "\n",
    "#use the best model for prediction\n",
    "x_for_pred2 = df2_all.ix[:, df2_all.columns != 'rootznaws']\n",
    "clf.predict(x_for_pred2)"
   ]
  },
  {
   "cell_type": "code",
   "execution_count": 21,
   "metadata": {
    "collapsed": false,
    "deletable": true,
    "editable": true
   },
   "outputs": [
    {
     "name": "stderr",
     "output_type": "stream",
     "text": [
      "/opt/conda/lib/python2.7/site-packages/ipykernel_launcher.py:18: DeprecationWarning: \n",
      ".ix is deprecated. Please use\n",
      ".loc for label based indexing or\n",
      ".iloc for positional indexing\n",
      "\n",
      "See the documentation here:\n",
      "http://pandas.pydata.org/pandas-docs/stable/indexing.html#ix-indexer-is-deprecated\n"
     ]
    },
    {
     "name": "stdout",
     "output_type": "stream",
     "text": [
      "('Best score is :', 0.95689583734976114)\n"
     ]
    }
   ],
   "source": [
    "# select part of the data frame that rootznaws is not missing for train and test\n",
    "df1 = df[df.rootznaws.notnull()]\n",
    "\n",
    "#get the numerical columns\n",
    "df1_numerical = df1.select_dtypes(exclude=['object'])\n",
    "\n",
    "#get the categorical columns\n",
    "df1_categorical = df1.select_dtypes(include=['object'])\n",
    "\n",
    "#use get_dummies to onvert categorical variable into dummy variables and the join with other numerical columns\n",
    "df1_all = pd.concat([df1_numerical, pd.get_dummies(df1_categorical)], axis=1)\n",
    "df1_all.apply(lambda x: x.fillna(x.mean(), inplace=True),axis=1)\n",
    "del df1_all['mustatus']\n",
    "del df1_all['iccdcd'] \n",
    "del df1_all['niccdcd']\n",
    "\n",
    "# x2 includes all the feature columns\n",
    "x2 = df1_all.ix[:, df1_all.columns != 'rootznaws']\n",
    "#y2 is the target column\n",
    "y2 = df1_all.ix[:, df1_all.columns == 'rootznaws']\n",
    "\n",
    "#divide into train and test\n",
    "x_train2, x_test2, y_train2, y_test2 = sklearn.cross_validation.train_test_split(x2, y2, test_size=0.2)\n",
    "\n",
    "#fit into a linear model\n",
    "regr = linear_model.LinearRegression()\n",
    "regr.fit(x_train2, y_train2)\n",
    "\n",
    "# report the best score\n",
    "print('Best score is :', regr.score(x_test2, y_test2))"
   ]
  }
 ],
 "metadata": {
  "kernelspec": {
   "display_name": "Python 2",
   "language": "python",
   "name": "python2"
  },
  "language_info": {
   "codemirror_mode": {
    "name": "ipython",
    "version": 2
   },
   "file_extension": ".py",
   "mimetype": "text/x-python",
   "name": "python",
   "nbconvert_exporter": "python",
   "pygments_lexer": "ipython2",
   "version": "2.7.13"
  }
 },
 "nbformat": 4,
 "nbformat_minor": 2
}
